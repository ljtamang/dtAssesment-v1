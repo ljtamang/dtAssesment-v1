{
 "cells": [
  {
   "cell_type": "code",
   "execution_count": 7,
   "metadata": {},
   "outputs": [],
   "source": [
    "import gensim\n",
    "import xml.etree.ElementTree as etree \n",
    "from random import shuffle\n",
    "import multiprocessing\n",
    "import numpy as np\n",
    "from math import*\n",
    "import csv\n",
    "import utils"
   ]
  },
  {
   "cell_type": "code",
   "execution_count": 8,
   "metadata": {},
   "outputs": [],
   "source": [
    "# Get training data for doc2vec model\n",
    "def get_all_paragraphs(instances):\n",
    "    \"\"\"Extract all sentences from instance and form single list of all contnet\n",
    "    \"\"\"\n",
    "    ProblemDescription = []\n",
    "    Question = []\n",
    "    Answer = []\n",
    "    ReferenceAnswers =[]\n",
    "    for instance in instances:\n",
    "        ProblemDescription.append(instance.ProblemDescription)\n",
    "        Question.append(instance.Question)\n",
    "        Answer.append(instance.Answer)\n",
    "        ReferenceAnswers.extend(instance.ReferenceAnswers)\n",
    "    all_paragraphs = ProblemDescription + Question + Answer + ReferenceAnswers\n",
    "    return all_paragraphs\n",
    "\n",
    "# prepare paragraph to be ready to feed to genism doc2vec model\n",
    "def get_taggeDocument(paragraphs, tokens_only=False):\n",
    "    \"\"\"Converts the list of paragraphs to object of TaggedDocument to be ready to feed to doc2vec model\n",
    "    \"\"\"\n",
    "    for i, paragraph in enumerate(paragraphs):\n",
    "        if tokens_only:\n",
    "            yield gensim.utils.simple_preprocess(paragraph)\n",
    "        else:\n",
    "            yield gensim.models.doc2vec.TaggedDocument(gensim.utils.simple_preprocess(paragraph), [i])"
   ]
  },
  {
   "cell_type": "code",
   "execution_count": 4,
   "metadata": {},
   "outputs": [
    {
     "name": "stdout",
     "output_type": "stream",
     "text": [
      "Start buidling vocab for PV-DM model...\n",
      "Finished buidling vocab for PV-DM model\n",
      "Start buidling vocab for PV-DBOW model....\n",
      "Finished buidling vocab for PV-DM model\n",
      "Start buidling PV-DM model...\n",
      "CPU times: user 6min 5s, sys: 58.3 s, total: 7min 3s\n",
      "Wall time: 4min 16s\n",
      "Finished buidlingPV-DM model\n",
      "Start buidling PV-DBOW model....\n",
      "CPU times: user 2min 3s, sys: 59.8 s, total: 3min 3s\n",
      "Wall time: 2min 20s\n",
      "Finished buidling PV-DM model\n"
     ]
    }
   ],
   "source": [
    "# step to build the model\n",
    "\n",
    "file_name =\"DT-Gradev1.0_data/DT-Grade_v1.0_dataset.xml\"\n",
    "corpus = list(read_dtGrade_corpus(file_name)) # load dataset\n",
    "\n",
    "# form training data\n",
    "all_paragraphs = get_all_paragraphs(corpus)\n",
    "shuffle(all_paragraphs)\n",
    "training_data = list(get_taggeDocument(all_paragraphs))\n",
    "\n",
    "# Build models and save them\n",
    "cores = multiprocessing.cpu_count() # count number of processor \n",
    "model_DM = gensim.models.doc2vec.Doc2Vec(dbow_words=1, vector_size=300, window=8, min_count=1, sample=1e-5, negative=5, workers=cores,  dm=1, dm_concat=1, epochs=1000, alpha=0.025, min_alpha=0.0001)\n",
    "model_DBOW = gensim.models.doc2vec.Doc2Vec(dbow_words=1, vector_size=300, window=5, min_count=1, sample=1e-5, negative=5, workers=cores, dm=0, dm_concat=1, epochs=400, alpha=0.025, min_alpha=0.0001)\n",
    "print(\"Start buidling vocab for PV-DM model...\")\n",
    "model_DM.build_vocab(training_data) # build vocab\n",
    "print(\"Finished buidling vocab for PV-DM model\")\n",
    "\n",
    "print(\"Start buidling vocab for PV-DBOW model....\")\n",
    "model_DBOW.build_vocab(training_data) #build vocab\n",
    "print(\"Finished buidling vocab for PV-DM model\")\n",
    "\n",
    "print(\"Start buidling PV-DM model...\")\n",
    "%time model_DM.train(training_data, total_examples=model_DM.corpus_count, epochs=model_DM.epochs)\n",
    "print(\"Finished buidlingPV-DM model\")\n",
    "\n",
    "print(\"Start buidling PV-DBOW model....\")\n",
    "model_DM.save('models/model_DM.doc2vec') #save model\n",
    "%time model_DBOW.train(training_data, total_examples=model_DBOW.corpus_count, epochs=model_DBOW.epochs)\n",
    "model_DBOW.save('models/model_DBOW.doc2vec') #save model\n",
    "print(\"Finished buidling PV-DM model\")\n"
   ]
  },
  {
   "cell_type": "code",
   "execution_count": null,
   "metadata": {},
   "outputs": [],
   "source": []
  }
 ],
 "metadata": {
  "kernelspec": {
   "display_name": "Python 3",
   "language": "python",
   "name": "python3"
  },
  "language_info": {
   "codemirror_mode": {
    "name": "ipython",
    "version": 3
   },
   "file_extension": ".py",
   "mimetype": "text/x-python",
   "name": "python",
   "nbconvert_exporter": "python",
   "pygments_lexer": "ipython3",
   "version": "3.6.5"
  }
 },
 "nbformat": 4,
 "nbformat_minor": 2
}
