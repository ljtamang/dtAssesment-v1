{
 "cells": [
  {
   "cell_type": "code",
   "execution_count": 13,
   "metadata": {},
   "outputs": [],
   "source": [
    "import gensim\n",
    "import xml.etree.ElementTree as etree \n",
    "from random import shuffle\n",
    "from math import*\n",
    "import csv\n",
    "import pandas as pd\n",
    "import numpy as np\n",
    "from sklearn.preprocessing import StandardScaler\n",
    "from sklearn.decomposition import PCA\n",
    "import utils"
   ]
  },
  {
   "cell_type": "code",
   "execution_count": 10,
   "metadata": {},
   "outputs": [],
   "source": [
    "# load back the model \n",
    "model_DM = gensim.models.doc2vec.Doc2Vec.load('models/model_DM.doc2vec')\n",
    "model_DBOW = gensim.models.doc2vec.Doc2Vec.load('models/model_DBOW.doc2vec')\n",
    "\n",
    "# load dataset\n",
    "file_name =\"DT-Gradev1.0_data/DT-Grade_v1.0_dataset.xml\"\n",
    "corpus = list(read_dtGrade_corpus(file_name)) #returns list of object of Instance type and shuffle them\n",
    "\n",
    "# cacluate the simialrty score btween answer and refrence asnwer\n",
    "def get_cosim_score(Answer, ReferenceAnswers):\n",
    "    \"\"\"Calcualte simialrity score between answer and refrence answers\n",
    "    \"\"\"\n",
    "    DM_cosSim, DBOW_cosSim, DM_DBOW_cosSim= [],[],[]\n",
    "    # infer answers vector\n",
    "    v1_DM_ans = model_DM.infer_vector(gensim.utils.simple_preprocess(Answer))\n",
    "    v2_DBOW_ans = model_DBOW.infer_vector(gensim.utils.simple_preprocess(Answer))\n",
    "    # produce concatenation vector\n",
    "    v1_v2_ans = np.concatenate([v1_DM_ans, v2_DBOW_ans]) \n",
    "    for refAns in ReferenceAnswers:\n",
    "        refAns = gensim.utils.simple_preprocess(refAns)\n",
    "        # infer refrence answers vector\n",
    "        v1_DM_refAns = model_DM.infer_vector(refAns)\n",
    "        v2_DBOW_refAns = model_DBOW.infer_vector(refAns)\n",
    "        # produce concatenation vector\n",
    "        v1_v2_refAns = np.concatenate([v1_DM_refAns, v2_DBOW_refAns])\n",
    "        # find cosine simialities\n",
    "        DM_cosSim.append(cosine_similarity(v1_DM_ans, v1_DM_refAns))\n",
    "        DBOW_cosSim.append(cosine_similarity(v2_DBOW_ans, v2_DBOW_refAns))\n",
    "        DM_DBOW_cosSim.append(cosine_similarity(v1_v2_ans, v1_v2_refAns))\n",
    "    return DM_cosSim, DBOW_cosSim, DM_DBOW_cosSim\n",
    "\n",
    "# compute simialrity score and write them to file\n",
    "with open('sim_features/similarity.csv', \"w\") as csv_file:\n",
    "    fieldnames = ['DM_max_cosSim', 'DM_mean_cosSim', 'DBOW_max_cosSim', 'DBOW_mean_cosSim' ,'DM_DBOW_max_cosSim', 'DM_DBOW_mean_cosSim', 'Annotation']\n",
    "    writer = csv.DictWriter(csv_file, fieldnames=fieldnames)\n",
    "    writer.writeheader()\n",
    "    for instance in corpus:\n",
    "        DM_cosSim, DBOW_cosSim, DM_DBOW_cosSim = get_cosim_score(instance.Answer, instance.ReferenceAnswers)\n",
    "        writer.writerow({'DM_max_cosSim': max(DM_cosSim), 'DM_mean_cosSim': round(np.mean(DM_cosSim),5), 'DBOW_max_cosSim': max(DBOW_cosSim), 'DBOW_mean_cosSim': round(np.mean(DBOW_cosSim),5), 'DM_DBOW_max_cosSim': max(DM_DBOW_cosSim), 'DM_DBOW_mean_cosSim': round(np.mean(DM_DBOW_cosSim),5), 'Annotation':instance.Annotation})\n"
   ]
  },
  {
   "cell_type": "code",
   "execution_count": 11,
   "metadata": {},
   "outputs": [],
   "source": [
    "# load dataset into Pandas DataFrame\n",
    "data_path = 'sim_features/similarity.csv' # define path of data\n",
    "dataFrame = pd.read_csv(data_path)\n",
    "\n",
    "# Define features and target\n",
    "features = ['DM_max_cosSim', 'DM_mean_cosSim', 'DBOW_max_cosSim', 'DBOW_mean_cosSim', 'DM_DBOW_max_cosSim', \n",
    "            'DM_DBOW_mean_cosSim']\n",
    "\n",
    "# Standardize the features\n",
    "x = dataFrame.loc[:, features].values # Separate out the feature\n",
    "y = dataFrame.loc[:,['Annotation']] # Separate out the target\n",
    "\n",
    "x_standarized = StandardScaler().fit_transform(x)\n",
    "\n",
    "# save the standarized data to csv\n",
    "x = pd.DataFrame(x_standarized)\n",
    "y = pd.DataFrame(y)\n",
    "final_df = pd.concat([x, y], axis = 1) \n",
    "header_names= features + ['Annotation']\n",
    "output_path = 'sim_features/similarity_standarised.csv' # define path of data\n",
    "final_df.to_csv(output_path, header=header_names, index=False)"
   ]
  },
  {
   "cell_type": "code",
   "execution_count": null,
   "metadata": {},
   "outputs": [],
   "source": []
  }
 ],
 "metadata": {
  "kernelspec": {
   "display_name": "Python 3",
   "language": "python",
   "name": "python3"
  },
  "language_info": {
   "codemirror_mode": {
    "name": "ipython",
    "version": 3
   },
   "file_extension": ".py",
   "mimetype": "text/x-python",
   "name": "python",
   "nbconvert_exporter": "python",
   "pygments_lexer": "ipython3",
   "version": "3.6.5"
  }
 },
 "nbformat": 4,
 "nbformat_minor": 2
}
